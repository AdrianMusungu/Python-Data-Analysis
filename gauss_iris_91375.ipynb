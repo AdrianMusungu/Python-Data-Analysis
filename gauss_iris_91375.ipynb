{
 "cells": [
  {
   "cell_type": "code",
   "execution_count": 76,
   "metadata": {},
   "outputs": [],
   "source": [
    "import numpy as np\n",
    "import pandas as pd\n",
    "\n",
    "import sklearn\n",
    "\n",
    "from sklearn.naive_bayes import GaussianNB\n",
    "from sklearn.cross_validation import train_test_split\n",
    "from sklearn import metrics\n",
    "from sklearn.metrics import accuracy_score\n",
    "\n",
    "\n",
    "from sklearn.metrics import confusion_matrix,classification_report"
   ]
  },
  {
   "cell_type": "code",
   "execution_count": 77,
   "metadata": {},
   "outputs": [
    {
     "name": "stdout",
     "output_type": "stream",
     "text": [
      "QUESTION 1\n",
      "Here I have read the iris data set as a csv into jupyter notebook.\n"
     ]
    }
   ],
   "source": [
    "df= pd.read_csv('iris.csv',names=['sepal length in cm','sepal width in cm ','petal length in cm','petal width in cm','class'])\n",
    "print('QUESTION 1')\n",
    "print('Here I have read the iris data set as a csv into jupyter notebook.')"
   ]
  },
  {
   "cell_type": "code",
   "execution_count": 78,
   "metadata": {},
   "outputs": [
    {
     "data": {
      "text/html": [
       "<div>\n",
       "<style scoped>\n",
       "    .dataframe tbody tr th:only-of-type {\n",
       "        vertical-align: middle;\n",
       "    }\n",
       "\n",
       "    .dataframe tbody tr th {\n",
       "        vertical-align: top;\n",
       "    }\n",
       "\n",
       "    .dataframe thead th {\n",
       "        text-align: right;\n",
       "    }\n",
       "</style>\n",
       "<table border=\"1\" class=\"dataframe\">\n",
       "  <thead>\n",
       "    <tr style=\"text-align: right;\">\n",
       "      <th></th>\n",
       "      <th>sepal length in cm</th>\n",
       "      <th>sepal width in cm</th>\n",
       "      <th>petal length in cm</th>\n",
       "      <th>petal width in cm</th>\n",
       "      <th>class</th>\n",
       "    </tr>\n",
       "  </thead>\n",
       "  <tbody>\n",
       "    <tr>\n",
       "      <th>0</th>\n",
       "      <td>5.1</td>\n",
       "      <td>3.5</td>\n",
       "      <td>1.4</td>\n",
       "      <td>0.2</td>\n",
       "      <td>Iris-setosa</td>\n",
       "    </tr>\n",
       "    <tr>\n",
       "      <th>1</th>\n",
       "      <td>4.9</td>\n",
       "      <td>3.0</td>\n",
       "      <td>1.4</td>\n",
       "      <td>0.2</td>\n",
       "      <td>Iris-setosa</td>\n",
       "    </tr>\n",
       "    <tr>\n",
       "      <th>2</th>\n",
       "      <td>4.7</td>\n",
       "      <td>3.2</td>\n",
       "      <td>1.3</td>\n",
       "      <td>0.2</td>\n",
       "      <td>Iris-setosa</td>\n",
       "    </tr>\n",
       "    <tr>\n",
       "      <th>3</th>\n",
       "      <td>4.6</td>\n",
       "      <td>3.1</td>\n",
       "      <td>1.5</td>\n",
       "      <td>0.2</td>\n",
       "      <td>Iris-setosa</td>\n",
       "    </tr>\n",
       "    <tr>\n",
       "      <th>4</th>\n",
       "      <td>5.0</td>\n",
       "      <td>3.6</td>\n",
       "      <td>1.4</td>\n",
       "      <td>0.2</td>\n",
       "      <td>Iris-setosa</td>\n",
       "    </tr>\n",
       "  </tbody>\n",
       "</table>\n",
       "</div>"
      ],
      "text/plain": [
       "   sepal length in cm  sepal width in cm   petal length in cm  \\\n",
       "0                 5.1                 3.5                 1.4   \n",
       "1                 4.9                 3.0                 1.4   \n",
       "2                 4.7                 3.2                 1.3   \n",
       "3                 4.6                 3.1                 1.5   \n",
       "4                 5.0                 3.6                 1.4   \n",
       "\n",
       "   petal width in cm        class  \n",
       "0                0.2  Iris-setosa  \n",
       "1                0.2  Iris-setosa  \n",
       "2                0.2  Iris-setosa  \n",
       "3                0.2  Iris-setosa  \n",
       "4                0.2  Iris-setosa  "
      ]
     },
     "execution_count": 78,
     "metadata": {},
     "output_type": "execute_result"
    }
   ],
   "source": [
    "df.head()"
   ]
  },
  {
   "cell_type": "code",
   "execution_count": 79,
   "metadata": {},
   "outputs": [],
   "source": [
    "X = df.drop('class', axis=1)\n",
    "\n",
    "y = df['class']"
   ]
  },
  {
   "cell_type": "code",
   "execution_count": 80,
   "metadata": {},
   "outputs": [],
   "source": [
    "X_train,X_test,y_train,y_test = train_test_split(X,y,test_size=0.33,random_state=1)"
   ]
  },
  {
   "cell_type": "code",
   "execution_count": 81,
   "metadata": {},
   "outputs": [
    {
     "name": "stdout",
     "output_type": "stream",
     "text": [
      "QUESTION 2\n",
      "Here we have created our Gaussian Naive Bayes Model\n",
      "\n",
      "GaussianNB(priors=None)\n",
      "1.0\n",
      "\n",
      "QUESTION 3\n",
      "\n",
      "The accuracy score is 1.0 = 100%\n",
      "\n",
      "Other metrics used include:\n",
      "1. Classification Report - which is used below\n",
      "2. Classification Accuracy\n",
      "3. Area under ROC Curve\n",
      "4. Logarithmic Loss\n",
      "\n"
     ]
    }
   ],
   "source": [
    "print('QUESTION 2')\n",
    "print('Here we have created our Gaussian Naive Bayes Model')\n",
    "print('')\n",
    "Gauss = GaussianNB()\n",
    "\n",
    "Gauss.fit(X_train, y_train)\n",
    "print(Gauss)\n",
    "\n",
    "y_expect = y_test\n",
    "y_pred = Gauss.predict(X_test)\n",
    "\n",
    "print (accuracy_score(y_expect, y_test))\n",
    "print('')\n",
    "print('QUESTION 3')\n",
    "print('')\n",
    "print('The accuracy score is 1.0 = 100%')\n",
    "print('')\n",
    "print('Other metrics used include:')\n",
    "print('1. Classification Report - which is used below')\n",
    "print('2. Classification Accuracy')\n",
    "print('3. Area under ROC Curve')\n",
    "print('4. Logarithmic Loss')\n",
    "print('')"
   ]
  },
  {
   "cell_type": "code",
   "execution_count": 82,
   "metadata": {},
   "outputs": [
    {
     "name": "stdout",
     "output_type": "stream",
     "text": [
      "QUESTION 4\n",
      "\n",
      "Confusion Matrix\n",
      "[[17  0  0]\n",
      " [ 0 17  2]\n",
      " [ 0  1 13]]\n",
      "\n",
      "The confusion matrix shows how many instances were classified correctly. Leading diagonal shows correct classification and values outside the said diagonal show wrong classification.\n",
      "In our model,\n",
      "\n",
      "All 17 Iris-setosa were classified correctly\n",
      "17 Iris-versicolor were classified correctly and 2 were classified wrongly as Iris-virginica\n",
      "13 Iris-virginica were classified correctly and 1 was classified wrongly as Iris-versicolor\n"
     ]
    }
   ],
   "source": [
    "print('QUESTION 4')\n",
    "print('')\n",
    "print('Confusion Matrix')\n",
    "print(confusion_matrix(y_test,y_pred))\n",
    "print('')\n",
    "print('The confusion matrix shows how many instances were classified correctly. Leading diagonal shows correct classification and values outside the said diagonal show wrong classification.')\n",
    "print('In our model,')\n",
    "print('')\n",
    "print('All 17 Iris-setosa were classified correctly')\n",
    "print('17 Iris-versicolor were classified correctly and 2 were classified wrongly as Iris-virginica')\n",
    "print('13 Iris-virginica were classified correctly and 1 was classified wrongly as Iris-versicolor')"
   ]
  },
  {
   "cell_type": "code",
   "execution_count": 83,
   "metadata": {},
   "outputs": [
    {
     "name": "stdout",
     "output_type": "stream",
     "text": [
      "                 precision    recall  f1-score   support\n",
      "\n",
      "    Iris-setosa       1.00      1.00      1.00        17\n",
      "Iris-versicolor       0.94      0.89      0.92        19\n",
      " Iris-virginica       0.87      0.93      0.90        14\n",
      "\n",
      "    avg / total       0.94      0.94      0.94        50\n",
      "\n"
     ]
    }
   ],
   "source": [
    "print(classification_report(y_test,y_pred))"
   ]
  },
  {
   "cell_type": "code",
   "execution_count": 84,
   "metadata": {},
   "outputs": [
    {
     "name": "stdout",
     "output_type": "stream",
     "text": [
      "\n",
      "QUESTION 5\n",
      "Naive Bayes makes the following assumption:\n",
      "\n",
      "Attribute Independence: It assumes that the presence of a particular feature in a class is unrelated to the presence of any other feeture. \n",
      "         For example, a fruit may be considered a banana if it is elongated and yellow. Even if these attributes depend on each other, they are considered to indpendently contribute to the probability of the fruit being a banana hence why it is Naive\n",
      "\n",
      "QUESTION 6\n",
      "Difference between the 3 Naive Bayes Models:\n",
      "\n",
      "1.Gaussian : Deals with normally-distributed data i.e continuous e.g height of students in a class \n",
      "2.Multinomial : Deals with data that has features which describe discrete frequency counts e.g number counts \n",
      "3.Binomial : Deals with binary data e.g true/false, 0 or 1\n"
     ]
    }
   ],
   "source": [
    "print('')\n",
    "print('QUESTION 5')\n",
    "print('Naive Bayes makes the following assumption:')\n",
    "print('')\n",
    "print('Attribute Independence: It assumes that the presence of a particular feature in a class is unrelated to the presence of any other feeture. ')\n",
    "print('         For example, a fruit may be considered a banana if it is elongated and yellow. Even if these attributes depend on each other, they are considered to indpendently contribute to the probability of the fruit being a banana hence why it is Naive')\n",
    "print('')\n",
    "print('QUESTION 6')\n",
    "print('Difference between the 3 Naive Bayes Models:')\n",
    "print('')\n",
    "print('1.Gaussian : Deals with normally-distributed data i.e continuous e.g height of students in a class ')\n",
    "print('2.Multinomial : Deals with data that has features which describe discrete frequency counts e.g number counts ')\n",
    "print('3.Binomial : Deals with binary data e.g true/false, 0 or 1')"
   ]
  },
  {
   "cell_type": "code",
   "execution_count": null,
   "metadata": {},
   "outputs": [],
   "source": []
  },
  {
   "cell_type": "code",
   "execution_count": null,
   "metadata": {},
   "outputs": [],
   "source": []
  }
 ],
 "metadata": {
  "kernelspec": {
   "display_name": "Python 3",
   "language": "python",
   "name": "python3"
  },
  "language_info": {
   "codemirror_mode": {
    "name": "ipython",
    "version": 3
   },
   "file_extension": ".py",
   "mimetype": "text/x-python",
   "name": "python",
   "nbconvert_exporter": "python",
   "pygments_lexer": "ipython3",
   "version": "3.7.0"
  }
 },
 "nbformat": 4,
 "nbformat_minor": 2
}
